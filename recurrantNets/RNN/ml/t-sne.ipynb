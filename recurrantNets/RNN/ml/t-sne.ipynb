{
 "cells": [
  {
   "cell_type": "code",
   "execution_count": 2,
   "metadata": {},
   "outputs": [],
   "source": [
    "%matplotlib inline"
   ]
  },
  {
   "cell_type": "code",
   "execution_count": 2,
   "metadata": {},
   "outputs": [],
   "source": [
    "import pickle\n",
    "import numpy as np\n",
    "import matplotlib.pyplot as plt\n",
    "#import seaborn as sns\n",
    "#sns.set()\n",
    "from MulticoreTSNE import MulticoreTSNE as TSNE"
   ]
  },
  {
   "cell_type": "code",
   "execution_count": 11,
   "metadata": {},
   "outputs": [],
   "source": [
    "import os\n",
    "import sys\n",
    "modules_path = '/home/ratzenboe/Documents/diffractive-event-selection/recurrantNets/RNN/ml/modules/'\n",
    "if modules_path not in sys.path:\n",
    "    sys.path.append(modules_path)"
   ]
  },
  {
   "cell_type": "code",
   "execution_count": 14,
   "metadata": {},
   "outputs": [],
   "source": [
    "from utils import engineer_features, split_dictionary, remove_field_name, flatten_dictionary, special_preprocessing, flatten_feature"
   ]
  },
  {
   "cell_type": "code",
   "execution_count": 4,
   "metadata": {},
   "outputs": [],
   "source": [
    "with open('/media/hdd/train_files/output_evt_dic/evt_dic_all.pkl', 'rb') as fle:\n",
    "    ed = pickle.load(fle)"
   ]
  },
  {
   "cell_type": "code",
   "execution_count": 10,
   "metadata": {},
   "outputs": [
    {
     "data": {
      "text/plain": [
       "('P',\n",
       " 'charge_sign',\n",
       " 'dca_vtx_z',\n",
       " 'dx_tof_impact',\n",
       " 'dz_tof_impact',\n",
       " 'eta',\n",
       " 'eta_on_emc',\n",
       " 'global_chi2',\n",
       " 'golden_chi2',\n",
       " 'its_chi2',\n",
       " 'n_cls_its',\n",
       " 'n_cls_tpc',\n",
       " 'n_cls_trd',\n",
       " 'n_shared_cls_tpc',\n",
       " 'p_on_emc',\n",
       " 'phi',\n",
       " 'phi_on_emc',\n",
       " 'pid_bayes_proba_electron',\n",
       " 'pid_bayes_proba_kaon',\n",
       " 'pid_bayes_proba_muon',\n",
       " 'pid_bayes_proba_pion',\n",
       " 'pid_bayes_proba_proton',\n",
       " 'pid_bayes_status',\n",
       " 'pid_global',\n",
       " 'pid_hmpid_signal',\n",
       " 'pid_its_signal',\n",
       " 'pid_its_signal_tuned',\n",
       " 'pid_tof_n_sigma_kaon',\n",
       " 'pid_tof_n_sigma_pion',\n",
       " 'pid_tof_n_sigma_proton',\n",
       " 'pid_tof_proba_kaon',\n",
       " 'pid_tof_proba_pion',\n",
       " 'pid_tof_proba_proton',\n",
       " 'pid_tof_signal',\n",
       " 'pid_tof_signal_tuned',\n",
       " 'pid_tof_status',\n",
       " 'pid_tpc_n_sigma_kaon',\n",
       " 'pid_tpc_n_sigma_pion',\n",
       " 'pid_tpc_n_sigma_proton',\n",
       " 'pid_tpc_proba_kaon',\n",
       " 'pid_tpc_proba_pion',\n",
       " 'pid_tpc_proba_proton',\n",
       " 'pid_tpc_signal',\n",
       " 'pid_tpc_signal_tuned',\n",
       " 'pid_tpc_status',\n",
       " 'pid_trd_signal',\n",
       " 'pt',\n",
       " 'pt_on_emc',\n",
       " 'tof_bunch_crossing',\n",
       " 'tpc_chi2',\n",
       " 'track_length',\n",
       " 'xy_impact',\n",
       " 'z_impact')"
      ]
     },
     "execution_count": 10,
     "metadata": {},
     "output_type": "execute_result"
    }
   ],
   "source": [
    "event_names = ed['event'].dtype.names\n",
    "track_names = ed['track'].dtype.names"
   ]
  },
  {
   "cell_type": "code",
   "execution_count": null,
   "metadata": {},
   "outputs": [],
   "source": []
  }
 ],
 "metadata": {
  "kernelspec": {
   "display_name": "Python 3",
   "language": "python",
   "name": "python3"
  },
  "language_info": {
   "codemirror_mode": {
    "name": "ipython",
    "version": 3
   },
   "file_extension": ".py",
   "mimetype": "text/x-python",
   "name": "python",
   "nbconvert_exporter": "python",
   "pygments_lexer": "ipython3",
   "version": "3.5.2"
  }
 },
 "nbformat": 4,
 "nbformat_minor": 2
}
